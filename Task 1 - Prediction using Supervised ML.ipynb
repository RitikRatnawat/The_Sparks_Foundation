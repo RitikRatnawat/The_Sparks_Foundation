{
 "cells": [
  {
   "cell_type": "markdown",
   "id": "6097062f-90d3-44de-bd1a-ba34f701d549",
   "metadata": {},
   "source": [
    "# <center><b>The Sparks Foundation</b></center>\n",
    "\n",
    "# <center><b>Task - 1 : Prediction using Supervised Machine Learning</b></center>\n",
    "\n",
    "#### <p><center>In these task we have to predict the percentage of an student based on the number of study hours. Simply, This is a Simple Linear Regression Problem.</center></p>"
   ]
  },
  {
   "cell_type": "markdown",
   "id": "410952b3-4171-42c0-aa47-ba62bd548cdf",
   "metadata": {},
   "source": [
    "### <center><b>Author : Ritik Ratnawat</b></center>\n",
    "#### <center><b>( Data Science and Business Analytics Intern )</b></center>"
   ]
  },
  {
   "cell_type": "markdown",
   "id": "d2a5cb8b-fc00-4880-9f46-1763dc48445b",
   "metadata": {},
   "source": [
    "<br>"
   ]
  },
  {
   "cell_type": "markdown",
   "id": "c6c40da5-2e27-4268-9cd0-dfa60f06f9a6",
   "metadata": {},
   "source": [
    "### <b>Simple Linear Regression</b>"
   ]
  },
  {
   "cell_type": "markdown",
   "id": "018efa35-69c1-425d-af7a-2713c6705ed8",
   "metadata": {},
   "source": [
    "<p>Linear regression is one of the easiest and most popular Machine Learning algorithms. It is a statistical method that is used for predictive analysis. Linear regression makes predictions for continuous/real or numeric variables such as sales, salary, age, product price, etc.</p>\n",
    "\n",
    "<p>Linear regression algorithm shows a linear relationship between a dependent (y) and one or more independent (y) variables, hence called as linear regression. Since linear regression shows the linear relationship, which means it finds how the value of the dependent variable is changing according to the value of the independent variable.</p>\n",
    "\n",
    "<p>The linear regression model provides a sloped straight line representing the relationship between the variables. \n",
    "Mathematically, we can represent a linear regression as:\n",
    "\n",
    "    y = a0 + a1*x + ε\n",
    "\n",
    "Here,\n",
    "<ul>\n",
    "<li>Y= Dependent Variable (Target Variable)\n",
    "<li>X= Independent Variable (predictor Variable)\n",
    "<li>a0= intercept of the line (Gives an additional degree of freedom)\n",
    "<li>a1 = Linear regression coefficient (scale factor to each input value).\n",
    "<li>ε = random error</p>\n",
    "</ul></p>"
   ]
  },
  {
   "cell_type": "markdown",
   "id": "49bc9201-fa7e-4325-b4c8-56651c285433",
   "metadata": {},
   "source": [
    "<br>"
   ]
  },
  {
   "cell_type": "markdown",
   "id": "e9c173c8-874e-4ae2-9f2a-cf9b2ac0a2a3",
   "metadata": {},
   "source": [
    "### <b>Importing Libraries</b>"
   ]
  },
  {
   "cell_type": "code",
   "execution_count": 1,
   "id": "06a39df1-afc9-43f5-999e-c1e04f01895a",
   "metadata": {},
   "outputs": [],
   "source": [
    "import numpy as np\n",
    "import pandas as pd\n",
    "import matplotlib.pyplot as plt\n",
    "%matplotlib inline\n",
    "import seaborn as sns\n",
    "sns.set()"
   ]
  },
  {
   "cell_type": "markdown",
   "id": "441e16af-f040-4ba7-be5f-00881b5da60c",
   "metadata": {},
   "source": [
    "<br>"
   ]
  },
  {
   "cell_type": "markdown",
   "id": "64034a89-3372-48f9-8617-6b63709d50dc",
   "metadata": {},
   "source": [
    "### <b>Loading the Dataset</b>"
   ]
  },
  {
   "cell_type": "code",
   "execution_count": 2,
   "id": "382c4edb-facd-4750-a207-50ed6fb68cdf",
   "metadata": {},
   "outputs": [
    {
     "data": {
      "text/html": [
       "<div>\n",
       "<style scoped>\n",
       "    .dataframe tbody tr th:only-of-type {\n",
       "        vertical-align: middle;\n",
       "    }\n",
       "\n",
       "    .dataframe tbody tr th {\n",
       "        vertical-align: top;\n",
       "    }\n",
       "\n",
       "    .dataframe thead th {\n",
       "        text-align: right;\n",
       "    }\n",
       "</style>\n",
       "<table border=\"1\" class=\"dataframe\">\n",
       "  <thead>\n",
       "    <tr style=\"text-align: right;\">\n",
       "      <th></th>\n",
       "      <th>Hours</th>\n",
       "      <th>Scores</th>\n",
       "    </tr>\n",
       "  </thead>\n",
       "  <tbody>\n",
       "    <tr>\n",
       "      <th>0</th>\n",
       "      <td>2.5</td>\n",
       "      <td>21</td>\n",
       "    </tr>\n",
       "    <tr>\n",
       "      <th>1</th>\n",
       "      <td>5.1</td>\n",
       "      <td>47</td>\n",
       "    </tr>\n",
       "    <tr>\n",
       "      <th>2</th>\n",
       "      <td>3.2</td>\n",
       "      <td>27</td>\n",
       "    </tr>\n",
       "    <tr>\n",
       "      <th>3</th>\n",
       "      <td>8.5</td>\n",
       "      <td>75</td>\n",
       "    </tr>\n",
       "    <tr>\n",
       "      <th>4</th>\n",
       "      <td>3.5</td>\n",
       "      <td>30</td>\n",
       "    </tr>\n",
       "  </tbody>\n",
       "</table>\n",
       "</div>"
      ],
      "text/plain": [
       "   Hours  Scores\n",
       "0    2.5      21\n",
       "1    5.1      47\n",
       "2    3.2      27\n",
       "3    8.5      75\n",
       "4    3.5      30"
      ]
     },
     "execution_count": 2,
     "metadata": {},
     "output_type": "execute_result"
    }
   ],
   "source": [
    "fileurl = \"https://raw.githubusercontent.com/RitikRatnawat/TheSparksFoundation/main/Task1%20Dataset.csv\"\n",
    "data = pd.read_csv(fileurl)\n",
    "data.head()"
   ]
  },
  {
   "cell_type": "markdown",
   "id": "0d878e34-41a9-4903-a0df-67ac304c15b5",
   "metadata": {},
   "source": [
    "<br>"
   ]
  },
  {
   "cell_type": "markdown",
   "id": "59591682-a29d-4e8a-96e1-f3beae6c855e",
   "metadata": {},
   "source": [
    "### <b>Checking the Size of the Data</b>\n",
    "In this section we use \"shape\" attribute of Dataframe which returns a tuple in which first element represent number of rows and second one represent the number of columns."
   ]
  },
  {
   "cell_type": "code",
   "execution_count": 3,
   "id": "49a3395c-8b24-4ebe-9aa2-2a7b92c21e8c",
   "metadata": {},
   "outputs": [
    {
     "data": {
      "text/plain": [
       "(25, 2)"
      ]
     },
     "execution_count": 3,
     "metadata": {},
     "output_type": "execute_result"
    }
   ],
   "source": [
    "data.shape"
   ]
  },
  {
   "cell_type": "markdown",
   "id": "3cbc6c82-5dfc-4d62-bd45-5e5a55569e44",
   "metadata": {},
   "source": [
    "<br>"
   ]
  },
  {
   "cell_type": "markdown",
   "id": "55fd06d3-fd31-4f64-b7d2-c4d43bb948c4",
   "metadata": {},
   "source": [
    "### <b>Checking for Null values</b> "
   ]
  },
  {
   "cell_type": "code",
   "execution_count": 4,
   "id": "b84957b6-dfc5-4efc-a209-89551e735d74",
   "metadata": {},
   "outputs": [
    {
     "name": "stdout",
     "output_type": "stream",
     "text": [
      "<class 'pandas.core.frame.DataFrame'>\n",
      "RangeIndex: 25 entries, 0 to 24\n",
      "Data columns (total 2 columns):\n",
      " #   Column  Non-Null Count  Dtype  \n",
      "---  ------  --------------  -----  \n",
      " 0   Hours   25 non-null     float64\n",
      " 1   Scores  25 non-null     int64  \n",
      "dtypes: float64(1), int64(1)\n",
      "memory usage: 528.0 bytes\n"
     ]
    }
   ],
   "source": [
    "data.info()"
   ]
  },
  {
   "cell_type": "markdown",
   "id": "cbdd416a-1c5e-43a3-b762-d31158bd75a7",
   "metadata": {},
   "source": [
    "<br>As we can see above that there are no missing values in our dataset. So there no need of handling of missing values. "
   ]
  },
  {
   "cell_type": "markdown",
   "id": "f616e993-29d3-4f7a-88b3-587ab19b7497",
   "metadata": {},
   "source": [
    "<br>"
   ]
  },
  {
   "cell_type": "markdown",
   "id": "c6dc12a5-10a1-4a7f-b9be-7bea2b1c7d09",
   "metadata": {},
   "source": [
    "### <b>Summary Statistics</b>"
   ]
  },
  {
   "cell_type": "markdown",
   "id": "10833d01-cad2-4f15-85e6-b3558569edca",
   "metadata": {},
   "source": [
    "Here, we use the describe() to get the statistical summary of the data which includes min and max value, mean and standard deviation, quartiles and count."
   ]
  },
  {
   "cell_type": "code",
   "execution_count": 5,
   "id": "730eca99-a96c-4a2b-818b-4e31c33b2199",
   "metadata": {},
   "outputs": [
    {
     "data": {
      "text/html": [
       "<div>\n",
       "<style scoped>\n",
       "    .dataframe tbody tr th:only-of-type {\n",
       "        vertical-align: middle;\n",
       "    }\n",
       "\n",
       "    .dataframe tbody tr th {\n",
       "        vertical-align: top;\n",
       "    }\n",
       "\n",
       "    .dataframe thead th {\n",
       "        text-align: right;\n",
       "    }\n",
       "</style>\n",
       "<table border=\"1\" class=\"dataframe\">\n",
       "  <thead>\n",
       "    <tr style=\"text-align: right;\">\n",
       "      <th></th>\n",
       "      <th>Hours</th>\n",
       "      <th>Scores</th>\n",
       "    </tr>\n",
       "  </thead>\n",
       "  <tbody>\n",
       "    <tr>\n",
       "      <th>count</th>\n",
       "      <td>25.000000</td>\n",
       "      <td>25.000000</td>\n",
       "    </tr>\n",
       "    <tr>\n",
       "      <th>mean</th>\n",
       "      <td>5.012000</td>\n",
       "      <td>51.480000</td>\n",
       "    </tr>\n",
       "    <tr>\n",
       "      <th>std</th>\n",
       "      <td>2.525094</td>\n",
       "      <td>25.286887</td>\n",
       "    </tr>\n",
       "    <tr>\n",
       "      <th>min</th>\n",
       "      <td>1.100000</td>\n",
       "      <td>17.000000</td>\n",
       "    </tr>\n",
       "    <tr>\n",
       "      <th>25%</th>\n",
       "      <td>2.700000</td>\n",
       "      <td>30.000000</td>\n",
       "    </tr>\n",
       "    <tr>\n",
       "      <th>50%</th>\n",
       "      <td>4.800000</td>\n",
       "      <td>47.000000</td>\n",
       "    </tr>\n",
       "    <tr>\n",
       "      <th>75%</th>\n",
       "      <td>7.400000</td>\n",
       "      <td>75.000000</td>\n",
       "    </tr>\n",
       "    <tr>\n",
       "      <th>max</th>\n",
       "      <td>9.200000</td>\n",
       "      <td>95.000000</td>\n",
       "    </tr>\n",
       "  </tbody>\n",
       "</table>\n",
       "</div>"
      ],
      "text/plain": [
       "           Hours     Scores\n",
       "count  25.000000  25.000000\n",
       "mean    5.012000  51.480000\n",
       "std     2.525094  25.286887\n",
       "min     1.100000  17.000000\n",
       "25%     2.700000  30.000000\n",
       "50%     4.800000  47.000000\n",
       "75%     7.400000  75.000000\n",
       "max     9.200000  95.000000"
      ]
     },
     "execution_count": 5,
     "metadata": {},
     "output_type": "execute_result"
    }
   ],
   "source": [
    "data.describe()"
   ]
  },
  {
   "cell_type": "markdown",
   "id": "9b068d2e-f953-4a56-93b9-d4ff2f4bc3b0",
   "metadata": {},
   "source": [
    "#### <b>Key Observations</b>\n",
    "<ul>\n",
    "    <li>The Mean value is greater than the Median value ( i.e. 50% Percentile ).\n",
    "    <li>The difference between the 75% Percentile and max value is very small.\n",
    "    <li>From above observations, we can conclude that there no outliers present in the dataset.\n",
    "</ul>"
   ]
  },
  {
   "cell_type": "markdown",
   "id": "1bb7871f-b51c-4888-bb67-0d20c7b74d76",
   "metadata": {},
   "source": [
    "<br>"
   ]
  },
  {
   "cell_type": "markdown",
   "id": "7d088666-9ec9-4762-bdc2-49ec1e07bac4",
   "metadata": {},
   "source": [
    "### <b>Checking for Outliers using Boxplot</b>"
   ]
  },
  {
   "cell_type": "code",
   "execution_count": 6,
   "id": "25a1f47a-afb0-445b-97a4-0ef61c69b638",
   "metadata": {},
   "outputs": [
    {
     "data": {
      "image/png": "[encoded data removed]",
      "text/plain": [
       "<Figure size 1080x216 with 2 Axes>"
      ]
     },
     "metadata": {},
     "output_type": "display_data"
    }
   ],
   "source": [
    "fig, axes = plt.subplots(1,2, figsize = (15, 3))\n",
    "fig.suptitle(\"Boxplot of Hours and Scores for checking Outliers\")\n",
    "sns.set_style('whitegrid')\n",
    "sns.boxplot(ax = axes[0], x = data['Hours'], color = 'green')\n",
    "sns.boxplot(ax = axes[1], x = data['Scores'], color = 'green')\n",
    "plt.show()"
   ]
  },
  {
   "cell_type": "markdown",
   "id": "077425de-15cf-4d6c-8a9e-1fdc43dfc07f",
   "metadata": {},
   "source": [
    "This boxplot also verifies that there is no outliers present in the dataset. So, there is no need of handling of outliers."
   ]
  },
  {
   "cell_type": "markdown",
   "id": "6afe747f-e34f-4eb5-af89-21c3c70379c4",
   "metadata": {},
   "source": [
    "<br>"
   ]
  },
  {
   "cell_type": "markdown",
   "id": "6b8e4554-2891-4899-8119-514fea289d4d",
   "metadata": {},
   "source": [
    "### <b>Finding the Correlation between Input variable and Target variable</b>"
   ]
  },
  {
   "cell_type": "markdown",
   "id": "41c96d7c-3780-4da9-a4af-c27d8f106f8a",
   "metadata": {},
   "source": [
    "<p>A correlation is a statistical measure of the relationship between two variables. The measure is best used in variables that demonstrate a linear relationship between each other.</p>\n",
    "<p>The correlation coefficient is a value that indicates the strength of the relationship between variables. The coefficient can take any values from -1 to 1. The interpretations of the values are :\n",
    "<ul>\n",
    "    <li> -1: Perfect negative correlation. The variables tend to move in opposite directions (i.e., when one variable increases, the other variable decreases).\n",
    "    <li> 0: No correlation. The variables do not have a relationship with each other.\n",
    "    <li> 1: Perfect positive correlation. The variables tend to move in the same direction (i.e., when one variable increases, the other variable also increases).</ul></p>"
   ]
  },
  {
   "cell_type": "code",
   "execution_count": 7,
   "id": "5a6d8a32-b58c-49a0-8283-7a5dfdda1b37",
   "metadata": {},
   "outputs": [
    {
     "data": {
      "text/plain": [
       "<AxesSubplot:>"
      ]
     },
     "execution_count": 7,
     "metadata": {},
     "output_type": "execute_result"
    },
    {
     "data": {
      "image/png": "[encoded data removed]",
      "text/plain": [
       "<Figure size 432x288 with 2 Axes>"
      ]
     },
     "metadata": {},
     "output_type": "display_data"
    }
   ],
   "source": [
    "correlation = data.corr()\n",
    "sns.heatmap(correlation, annot = True, cmap = \"viridis\")"
   ]
  },
  {
   "cell_type": "markdown",
   "id": "5f7ff53c-18ac-425c-b9b5-88e69afe09e9",
   "metadata": {},
   "source": [
    "From above Heatmap, we can see that both input and target variable are highly correlated in the positive direction."
   ]
  },
  {
   "cell_type": "markdown",
   "id": "dd48cd25-d6c2-403d-b920-ef444d86116f",
   "metadata": {},
   "source": [
    "<br>"
   ]
  },
  {
   "cell_type": "markdown",
   "id": "74d19edb-e8eb-48ee-a20b-b95e93c4be13",
   "metadata": {},
   "source": [
    "### <b>Finding relation between input and target variable using Scatter Plot</b>"
   ]
  },
  {
   "cell_type": "markdown",
   "id": "2c7edbb0-df8f-4c1c-a74b-1220f61668e8",
   "metadata": {},
   "source": [
    "The fit of the data can be visually represented in a scatterplot. Using a scatterplot, we can generally assess the relationship between the variables and determine whether they are correlated or not."
   ]
  },
  {
   "cell_type": "code",
   "execution_count": 8,
   "id": "c3b8f14f-0e64-4ba3-aed3-d529b181e857",
   "metadata": {},
   "outputs": [
    {
     "data": {
      "image/png": "[encoded data removed]",
      "text/plain": [
       "<Figure size 432x288 with 1 Axes>"
      ]
     },
     "metadata": {},
     "output_type": "display_data"
    }
   ],
   "source": [
    "plt.scatter(data['Hours'], data['Scores'], c = \"Green\")\n",
    "plt.title(\"Scatter Plot between Number of Hours and Percentage\")\n",
    "plt.xlabel(\"Number of Hours\")\n",
    "plt.ylabel(\"Percentage\")\n",
    "plt.show()"
   ]
  },
  {
   "cell_type": "markdown",
   "id": "ba993ab8-3ba7-4901-9199-c9a7767982e1",
   "metadata": {},
   "source": [
    "The above Scatter Plot shows that if Student increases its study hours, there is a possibility that his/her score might also increase."
   ]
  },
  {
   "cell_type": "markdown",
   "id": "ee442a5c-cbf2-445a-a212-be70b2725505",
   "metadata": {},
   "source": [
    "<br>"
   ]
  },
  {
   "cell_type": "markdown",
   "id": "59e3ca25-a29b-4c35-83e8-55a0a9fce790",
   "metadata": {},
   "source": [
    "### <b>Data Preparation </b>"
   ]
  },
  {
   "cell_type": "markdown",
   "id": "73b9b6ff-801e-4bb6-b5fe-6d3164da59e6",
   "metadata": {},
   "source": [
    "##### <b>Splitting the data into Input variables and Target variable</b>"
   ]
  },
  {
   "cell_type": "code",
   "execution_count": 9,
   "id": "e32c65d8-1f6d-4a57-808a-53a8c86a543a",
   "metadata": {},
   "outputs": [],
   "source": [
    "X = data['Hours'].values.reshape(-1, 1)\n",
    "Y = data['Scores'].values.reshape(-1, 1)"
   ]
  },
  {
   "cell_type": "markdown",
   "id": "81413da1-7789-45a9-89e1-b5ab4f21b5a9",
   "metadata": {},
   "source": [
    "##### <b>Splitting the data into Training and Test Set</b>"
   ]
  },
  {
   "cell_type": "code",
   "execution_count": 10,
   "id": "3d130a1d-7eca-45c2-b57b-e58364ce4b8a",
   "metadata": {},
   "outputs": [
    {
     "name": "stdout",
     "output_type": "stream",
     "text": [
      "Training Set X :  (20, 1)\n",
      "Training Set Y :  (20, 1)\n",
      "Test Set X :  (5, 1)\n",
      "Test Set X :  (5, 1)\n"
     ]
    }
   ],
   "source": [
    "from sklearn.model_selection import train_test_split\n",
    "x_train, x_test, y_train, y_test = train_test_split(X, Y, test_size = 0.2, random_state = 0)\n",
    "print(\"Training Set X : \",x_train.shape)\n",
    "print(\"Training Set Y : \",y_train.shape)\n",
    "print(\"Test Set X : \",x_test.shape)\n",
    "print(\"Test Set X : \",y_test.shape)"
   ]
  },
  {
   "cell_type": "markdown",
   "id": "864d86b3-ebba-41de-89ec-9392ab4ad1a8",
   "metadata": {},
   "source": [
    "<br>"
   ]
  },
  {
   "cell_type": "markdown",
   "id": "666407c0-5b35-4a21-a5bc-6bd49a849666",
   "metadata": {},
   "source": [
    "### <b>Model Development</b>"
   ]
  },
  {
   "cell_type": "markdown",
   "id": "6032c20c-8ace-4913-a1b5-f85a87aabc37",
   "metadata": {},
   "source": [
    "Here, we build a ML model of Simple Linear Regression using Scikit-Learn library and training the model through the given dataset to predict the score of the Student based on the number of hours he/she study."
   ]
  },
  {
   "cell_type": "code",
   "execution_count": 11,
   "id": "726b22bd-9225-4498-91bf-171b42ae6dea",
   "metadata": {},
   "outputs": [],
   "source": [
    "from sklearn.linear_model import LinearRegression"
   ]
  },
  {
   "cell_type": "code",
   "execution_count": 12,
   "id": "1d23e8c1-82b8-4a84-99fa-868aad35b597",
   "metadata": {},
   "outputs": [
    {
     "name": "stdout",
     "output_type": "stream",
     "text": [
      "Coefficient :  [[9.91065648]]\n",
      "Intercept :  [2.01816004]\n"
     ]
    }
   ],
   "source": [
    "regression_model = LinearRegression()\n",
    "regression_model.fit(x_train, y_train)\n",
    "\n",
    "print(\"Coefficient : \", regression_model.coef_)\n",
    "print(\"Intercept : \", regression_model.intercept_)"
   ]
  },
  {
   "cell_type": "markdown",
   "id": "531cd957-9053-4a44-b637-a2ebb3afbb00",
   "metadata": {},
   "source": [
    "<br>"
   ]
  },
  {
   "cell_type": "markdown",
   "id": "e4cef120-d41d-41b2-b604-191f43cc424e",
   "metadata": {},
   "source": [
    "##### <b>Plotting the fitted regression line on the Scatter Plot</b>"
   ]
  },
  {
   "cell_type": "code",
   "execution_count": 13,
   "id": "9c548fdc-6ab9-4959-9b6a-1a1466cfc166",
   "metadata": {},
   "outputs": [
    {
     "data": {
      "image/png": "[encoded data removed]",
      "text/plain": [
       "<Figure size 432x288 with 1 Axes>"
      ]
     },
     "metadata": {},
     "output_type": "display_data"
    }
   ],
   "source": [
    "line = regression_model.coef_ * X + regression_model.intercept_\n",
    "\n",
    "plt.scatter(X, Y, c = 'Green')\n",
    "plt.title(\"Regression Plot\")\n",
    "plt.xlabel(\"Number of Hours\")\n",
    "plt.ylabel(\"Percentage\")\n",
    "plt.plot(X, line)\n",
    "plt.show()"
   ]
  },
  {
   "cell_type": "markdown",
   "id": "547cb349-6280-4fc6-b816-5b87b9185028",
   "metadata": {},
   "source": [
    "##### <b>Prediction on Test set using Model</b>"
   ]
  },
  {
   "cell_type": "code",
   "execution_count": 14,
   "id": "9d6e64b8-fb6f-4565-aad8-5a5c62805cff",
   "metadata": {},
   "outputs": [
    {
     "data": {
      "text/plain": [
       "array([[16.88414476],\n",
       "       [33.73226078],\n",
       "       [75.357018  ],\n",
       "       [26.79480124],\n",
       "       [60.49103328]])"
      ]
     },
     "execution_count": 14,
     "metadata": {},
     "output_type": "execute_result"
    }
   ],
   "source": [
    "y_pred = regression_model.predict(x_test)\n",
    "y_pred"
   ]
  },
  {
   "cell_type": "markdown",
   "id": "bb59778f-00b0-43ee-bdd2-a190fa9e4327",
   "metadata": {},
   "source": [
    "<br>"
   ]
  },
  {
   "cell_type": "markdown",
   "id": "3778145e-6f27-4ba9-a6b4-9e8f34cc87a7",
   "metadata": {},
   "source": [
    "### <b>Model Evaluation</b>"
   ]
  },
  {
   "cell_type": "markdown",
   "id": "3b9045e1-193f-4111-9f54-6d8c0019137f",
   "metadata": {},
   "source": [
    "In this section, we evalute the accuracy of the model in prediction of Scores of the Student. "
   ]
  },
  {
   "cell_type": "code",
   "execution_count": 15,
   "id": "b8f5f81a-efdf-4667-86c7-0306be643d89",
   "metadata": {},
   "outputs": [],
   "source": [
    "from sklearn.metrics import mean_absolute_error, r2_score "
   ]
  },
  {
   "cell_type": "code",
   "execution_count": 16,
   "id": "888c01f7-286e-4c22-bab1-57cf3961146f",
   "metadata": {},
   "outputs": [
    {
     "name": "stdout",
     "output_type": "stream",
     "text": [
      "Mean Absolute Error :  4.183859899002975\n",
      "R2_score :  0.9454906892105355\n"
     ]
    }
   ],
   "source": [
    "print(\"Mean Absolute Error : \", mean_absolute_error(y_test, y_pred))\n",
    "print(\"R2_score : \", r2_score(y_test, y_pred))"
   ]
  },
  {
   "cell_type": "markdown",
   "id": "588792f1-864c-4cb8-a550-eafddf8275c3",
   "metadata": {},
   "source": [
    "<b>Conclusion : </b>Our model is working with 94% explained variance which means the model is better fit for the data."
   ]
  },
  {
   "cell_type": "markdown",
   "id": "da88034a-85b9-40e2-9570-77de2d208d88",
   "metadata": {},
   "source": [
    "<br>"
   ]
  },
  {
   "cell_type": "markdown",
   "id": "5d6a7883-1326-42f7-824f-153f94f569dc",
   "metadata": {},
   "source": [
    "### <b>Prediction Using Model</b>"
   ]
  },
  {
   "cell_type": "markdown",
   "id": "51b3a313-9b11-4ca5-896b-537b22985ddb",
   "metadata": {},
   "source": [
    "#### What will be predicted score if a student studies for 9.25 hrs/ day?"
   ]
  },
  {
   "cell_type": "code",
   "execution_count": 24,
   "id": "0ebd1c8b-89b6-4340-aef6-6b79522c04ae",
   "metadata": {},
   "outputs": [
    {
     "data": {
      "text/plain": [
       "array([[93.7]])"
      ]
     },
     "execution_count": 24,
     "metadata": {},
     "output_type": "execute_result"
    }
   ],
   "source": [
    "Hour = np.array([9.25]).reshape(-1,1) \n",
    "Percentage = regression_model.predict(Hour)\n",
    "Percentage = np.round(Percentage, decimals = 1)\n",
    "Percentage"
   ]
  },
  {
   "cell_type": "markdown",
   "id": "f061376f-d56d-415e-8584-cce47893866d",
   "metadata": {},
   "source": [
    "<b>Here, the Linear regression model predicts that if a Student study for 9.25 hours, then he/she will get approximately 93.7% score.</b>"
   ]
  }
 ],
 "metadata": {
  "kernelspec": {
   "display_name": "Python 3",
   "language": "python",
   "name": "python3"
  },
  "language_info": {
   "codemirror_mode": {
    "name": "ipython",
    "version": 3
   },
   "file_extension": ".py",
   "mimetype": "text/x-python",
   "name": "python",
   "nbconvert_exporter": "python",
   "pygments_lexer": "ipython3",
   "version": "3.9.2"
  }
 },
 "nbformat": 4,
 "nbformat_minor": 5
}
